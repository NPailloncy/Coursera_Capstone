{
    "cells": [
        {
            "cell_type": "markdown",
            "metadata": {
                "collapsed": true
            },
            "source": "# <center>The Battle of Neighborhoods (Week 1)</center>"
        },
        {
            "cell_type": "markdown",
            "metadata": {},
            "source": "## Introduction"
        },
        {
            "cell_type": "markdown",
            "metadata": {},
            "source": "Tourism is important in Paris, Someone who wants to visit Paris would like to know where is the best place to reserve an hotel. He would like to be closed to museums and best attractions.\nIt's also important to look at public transportation around the hotel.\n\n**Where is the best place to install a new hotel?**\nAddress the decision where to locate a new hotel in a city with already a lot of hotel.\nWe will have to find a place:\n- near some best attractions (as museums, Eiffel Tower, etc)\n- near to public transportation\n- near to restaurants"
        },
        {
            "cell_type": "markdown",
            "metadata": {},
            "source": "## Data"
        },
        {
            "cell_type": "markdown",
            "metadata": {},
            "source": "To solve this problem I will use different Data:\n- The Wikipedia page with Neighboroods: https://fr.wikipedia.org/wiki/Liste_des_quartiers_administratifs_de_Paris\nWith this page I will be able to extract all the neighborhoods names. There 80 neighborhoods in Paris. (Examples: Sorbonne, Monnaie, P\u00e8re-Lachaise). \nIt's important to keep all of them because some attractions are not Downtown.\nGenerally neighborhoods have the same names than public transportations stops.\n- A Json file with coordinates: https://www.data.gouv.fr/fr/datasets/r/fd5a9c4a-0a7c-43aa-a986-4434a4d0707f\nTo be able to use Foursquare, we will need some coordinates. For examples we can decide to center or researches around the Eiffel Tower.\n- Foursquare location data\nNecessary to see where the best attractions are and to find the best neighborhood for the hotel.\nIt's also important to see how many hotels are already around."
        },
        {
            "cell_type": "code",
            "execution_count": null,
            "metadata": {},
            "outputs": [],
            "source": ""
        }
    ],
    "metadata": {
        "kernelspec": {
            "display_name": "Python 3.7",
            "language": "python",
            "name": "python3"
        },
        "language_info": {
            "codemirror_mode": {
                "name": "ipython",
                "version": 3
            },
            "file_extension": ".py",
            "mimetype": "text/x-python",
            "name": "python",
            "nbconvert_exporter": "python",
            "pygments_lexer": "ipython3",
            "version": "3.7.9"
        }
    },
    "nbformat": 4,
    "nbformat_minor": 1
}