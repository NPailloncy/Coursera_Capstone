{
    "cells": [
        {
            "cell_type": "markdown",
            "metadata": {
                "collapsed": true
            },
            "source": "# <center>The Battle of Neighborhoods (Week 1)</center>"
        },
        {
            "cell_type": "markdown",
            "metadata": {},
            "source": "## Introduction"
        },
        {
            "cell_type": "markdown",
            "metadata": {},
            "source": "I want to visit Paris, and I would like to know where is the best place to reserve an hotel. I want to be closed to museum and best attractions."
        },
        {
            "cell_type": "markdown",
            "metadata": {},
            "source": "## Data"
        },
        {
            "cell_type": "markdown",
            "metadata": {},
            "source": "To solve this problem I will use differents Data:\n- The Wikipedia page with Neighboroods: https://fr.wikipedia.org/wiki/Liste_des_quartiers_administratifs_de_Paris\n- A Json file with coordinates: https://www.data.gouv.fr/fr/datasets/r/fd5a9c4a-0a7c-43aa-a986-4434a4d0707f\n- Foursquare location data"
        },
        {
            "cell_type": "code",
            "execution_count": null,
            "metadata": {},
            "outputs": [],
            "source": ""
        }
    ],
    "metadata": {
        "kernelspec": {
            "display_name": "Python 3.7",
            "language": "python",
            "name": "python3"
        },
        "language_info": {
            "codemirror_mode": {
                "name": "ipython",
                "version": 3
            },
            "file_extension": ".py",
            "mimetype": "text/x-python",
            "name": "python",
            "nbconvert_exporter": "python",
            "pygments_lexer": "ipython3",
            "version": "3.7.9"
        }
    },
    "nbformat": 4,
    "nbformat_minor": 1
}